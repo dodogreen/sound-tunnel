{
 "cells": [
  {
   "cell_type": "code",
   "execution_count": 2,
   "metadata": {},
   "outputs": [
    {
     "name": "stdout",
     "output_type": "stream",
     "text": [
      "['呱吉人生晚長音樂清單', '呱吉直播-他的播放清單', '呱吉音樂清單總匯', '呱吉電台音樂清單', '若是明仔載 (feat. ?te 壞特) Radio', '☁️', '一一', '陪誠誠聽歌播放清單', '滾石40 滾石撞樂隊', '滾石40 滾石撞樂隊 40團拚經典', '爵', 'Acoustic Chill', 'HONNE | LISTEN TO THE MOON', 'Joe', 'M. 獨立', 'your likes', 'Your Top Songs 2021', 'Your Top Songs 2022']\n"
     ]
    }
   ],
   "source": [
    "new_data = [\n",
    "    \"呱吉人生晚長音樂清單\",\n",
    "    \"呱吉直播-他的播放清單\",\n",
    "    \"呱吉音樂清單總匯\",\n",
    "    \"呱吉電台音樂清單\",\n",
    "    \"若是明仔載 (feat. ?te 壞特) Radio\",\n",
    "    \"2000 年代金曲獎代表作品\",\n",
    "    \"2010 年代金曲獎代表作品\",\n",
    "    \"2010 年代派對舞曲代表作品\",\n",
    "    \"☁️\",\n",
    "    \"2GETHER\",\n",
    "    \"一一\",\n",
    "    \"健身HIIT\",\n",
    "    \"陪誠誠聽歌播放清單\",\n",
    "    \"滾石40 滾石撞樂隊\",\n",
    "    \"滾石40 滾石撞樂隊 40團拚經典\",\n",
    "    \"爵\",\n",
    "    \"Acoustic Chill\",\n",
    "    \"吉卜力配樂代表作品\",\n",
    "    \"Call Me By Your Name\",\n",
    "    \"喜好歌曲\",\n",
    "    \"HONNE | LISTEN TO THE MOON\",\n",
    "    \"Joe\",\n",
    "    \"久石讓：吉卜力配樂代表作\",\n",
    "    \"M. 獨立\",\n",
    "    \"台灣製造\",\n",
    "    \"your likes\",\n",
    "    \"Your Top Songs 2021\",\n",
    "    \"Your Top Songs 2022\",\n",
    "]\n",
    "\n",
    "original_data = [\n",
    "    \"2000 年代金曲獎代表作品\",\n",
    "    \"2010 年代金曲獎代表作品\",\n",
    "    \"2010 年代派對舞曲代表作品\",\n",
    "    \"2GETHER\",\n",
    "    \"健身HIIT\",\n",
    "    \"吉卜力配樂代表作品\",\n",
    "    \"Call Me By Your Name\",\n",
    "    \"喜好歌曲\",\n",
    "    \"久石讓：吉卜力配樂代表作\",\n",
    "    \"台灣製造\",\n",
    "    \"Mamma Mia! - The Complete Playlist\",\n",
    "    \"one piece\",\n",
    "    \"ONE PIECE\",\n",
    "    \"Perfume 代表作\",\n",
    "    \"已購買的音樂\",\n",
    "    \"純粹・派對\",\n",
    "    \"Shavasana 大休息\",\n",
    "    \"Untitled Playlist\",\n",
    "    \"孫燕姿代表作\",\n",
    "    \"YOASOBI 代表作\",\n",
    "    \"Peaceful Meditation\",\n",
    "    \"Palpatine + 林峻宇\",\n",
    "    \n",
    "]\n",
    "\n",
    "new_items = [item for item in new_data if item not in original_data]\n",
    "print(new_items)\n"
   ]
  }
 ],
 "metadata": {
  "kernelspec": {
   "display_name": "Python 3",
   "language": "python",
   "name": "python3"
  },
  "language_info": {
   "codemirror_mode": {
    "name": "ipython",
    "version": 3
   },
   "file_extension": ".py",
   "mimetype": "text/x-python",
   "name": "python",
   "nbconvert_exporter": "python",
   "pygments_lexer": "ipython3",
   "version": "3.11.1"
  }
 },
 "nbformat": 4,
 "nbformat_minor": 2
}
